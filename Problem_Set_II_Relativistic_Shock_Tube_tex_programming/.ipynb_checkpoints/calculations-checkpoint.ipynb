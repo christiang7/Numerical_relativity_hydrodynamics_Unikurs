{
 "cells": [
  {
   "cell_type": "code",
   "execution_count": 2,
   "id": "723a543b",
   "metadata": {},
   "outputs": [],
   "source": [
    "from sympy import *"
   ]
  },
  {
   "cell_type": "code",
   "execution_count": 3,
   "id": "01cc5c50",
   "metadata": {},
   "outputs": [
    {
     "data": {
      "text/plain": [
       "1"
      ]
     },
     "execution_count": 3,
     "metadata": {},
     "output_type": "execute_result"
    }
   ],
   "source": [
    "diff(x,x)"
   ]
  },
  {
   "cell_type": "code",
   "execution_count": 4,
   "id": "dfe4c5d3",
   "metadata": {},
   "outputs": [],
   "source": [
    "D,T,p,S,b = symbols(\"D T p S b\")"
   ]
  },
  {
   "cell_type": "code",
   "execution_count": 5,
   "id": "44d4d019",
   "metadata": {},
   "outputs": [
    {
     "data": {
      "text/latex": [
       "$\\displaystyle \\frac{D S^{2}}{\\sqrt{- \\frac{S^{2}}{\\left(D + T + p\\right)^{2}} + 1} \\left(D + T + p\\right)^{3}}$"
      ],
      "text/plain": [
       "D*S**2/(sqrt(-S**2/(D + T + p)**2 + 1)*(D + T + p)**3)"
      ]
     },
     "execution_count": 5,
     "metadata": {},
     "output_type": "execute_result"
    }
   ],
   "source": [
    "diff(D*(1-S**2/(p+D+T)**2)**(1/2),p)"
   ]
  },
  {
   "cell_type": "code",
   "execution_count": null,
   "id": "54c2a755",
   "metadata": {},
   "outputs": [],
   "source": []
  },
  {
   "cell_type": "code",
   "execution_count": 6,
   "id": "08d7f735",
   "metadata": {},
   "outputs": [
    {
     "data": {
      "text/latex": [
       "$\\displaystyle \\frac{- \\frac{S^{2} \\left(D + T\\right)}{b^{3} \\left(- \\frac{S^{2}}{b^{2}} + 1\\right)^{\\frac{3}{2}}} + b \\left(\\frac{S^{2}}{b^{3} \\sqrt{- \\frac{S^{2}}{b^{2}} + 1}} + \\frac{S^{2}}{b^{3} \\left(- \\frac{S^{2}}{b^{2}} + 1\\right)^{\\frac{3}{2}}}\\right) + \\sqrt{- \\frac{S^{2}}{b^{2}} + 1} - \\frac{1}{\\sqrt{- \\frac{S^{2}}{b^{2}} + 1}}}{D}$"
      ],
      "text/plain": [
       "(-S**2*(D + T)/(b**3*(-S**2/b**2 + 1)**(3/2)) + b*(S**2/(b**3*sqrt(-S**2/b**2 + 1)) + S**2/(b**3*(-S**2/b**2 + 1)**(3/2))) + sqrt(-S**2/b**2 + 1) - 1/sqrt(-S**2/b**2 + 1))/D"
      ]
     },
     "metadata": {},
     "output_type": "display_data"
    }
   ],
   "source": [
    "display(((diff(-1+1/D*(b*((1-S**2/b**2)**(1/2)-(1-S**2/b**2)**(-1/2))+(T+D)*(1-S**2/b**2)**(-1/2)),b))))"
   ]
  },
  {
   "cell_type": "code",
   "execution_count": 7,
   "id": "3cae26cd",
   "metadata": {},
   "outputs": [
    {
     "data": {
      "text/latex": [
       "$\\displaystyle \\frac{S^{2} \\left(- D - T + b\\right)}{D b \\sqrt{\\frac{- S^{2} + b^{2}}{b^{2}}} \\left(- S^{2} + b^{2}\\right)}$"
      ],
      "text/plain": [
       "S**2*(-D - T + b)/(D*b*sqrt((-S**2 + b**2)/b**2)*(-S**2 + b**2))"
      ]
     },
     "metadata": {},
     "output_type": "display_data"
    }
   ],
   "source": [
    "display(simplify(expand(diff(1/D*(b*((1-S**2/b**2)**(1/2)-(1-S**2/b**2)**(-1/2))+(T+D)*(1-S**2/b**2)**(-1/2)),b))))"
   ]
  },
  {
   "cell_type": "code",
   "execution_count": null,
   "id": "c21d257a",
   "metadata": {},
   "outputs": [],
   "source": []
  }
 ],
 "metadata": {
  "kernelspec": {
   "display_name": "SageMath 9.5",
   "language": "sage",
   "name": "sagemath"
  },
  "language_info": {
   "codemirror_mode": {
    "name": "ipython",
    "version": 3
   },
   "file_extension": ".py",
   "mimetype": "text/x-python",
   "name": "python",
   "nbconvert_exporter": "python",
   "pygments_lexer": "ipython3",
   "version": "3.11.6"
  }
 },
 "nbformat": 4,
 "nbformat_minor": 5
}
