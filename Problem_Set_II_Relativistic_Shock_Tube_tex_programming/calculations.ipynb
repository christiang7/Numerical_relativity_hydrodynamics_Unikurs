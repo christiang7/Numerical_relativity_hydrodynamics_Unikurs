{
 "cells": [
  {
   "cell_type": "code",
   "execution_count": 2,
   "id": "723a543b",
   "metadata": {},
   "outputs": [],
   "source": [
    "from sympy import *"
   ]
  },
  {
   "cell_type": "code",
   "execution_count": 3,
   "id": "01cc5c50",
   "metadata": {},
   "outputs": [
    {
     "data": {
      "text/plain": [
       "1"
      ]
     },
     "execution_count": 3,
     "metadata": {},
     "output_type": "execute_result"
    }
   ],
   "source": [
    "diff(x,x)"
   ]
  },
  {
   "cell_type": "code",
   "execution_count": 4,
   "id": "dfe4c5d3",
   "metadata": {},
   "outputs": [],
   "source": [
    "D,T,p,S,b = symbols(\"D T p S b\")"
   ]
  },
  {
   "cell_type": "code",
   "execution_count": 5,
   "id": "44d4d019",
   "metadata": {},
   "outputs": [
    {
     "data": {
      "text/latex": [
       "$\\displaystyle \\frac{D S^{2}}{\\sqrt{- \\frac{S^{2}}{\\left(D + T + p\\right)^{2}} + 1} \\left(D + T + p\\right)^{3}}$"
      ],
      "text/plain": [
       "D*S**2/(sqrt(-S**2/(D + T + p)**2 + 1)*(D + T + p)**3)"
      ]
     },
     "execution_count": 5,
     "metadata": {},
     "output_type": "execute_result"
    }
   ],
   "source": [
    "diff(D*(1-S**2/(p+D+T)**2)**(1/2),p)"
   ]
  },
  {
   "cell_type": "code",
   "execution_count": null,
   "id": "54c2a755",
   "metadata": {},
   "outputs": [],
   "source": []
  },
  {
   "cell_type": "code",
   "execution_count": 6,
   "id": "08d7f735",
   "metadata": {},
   "outputs": [
    {
     "data": {
      "text/latex": [
       "$\\displaystyle \\frac{- \\frac{S^{2} \\left(D + T\\right)}{b^{3} \\left(- \\frac{S^{2}}{b^{2}} + 1\\right)^{\\frac{3}{2}}} + b \\left(\\frac{S^{2}}{b^{3} \\sqrt{- \\frac{S^{2}}{b^{2}} + 1}} + \\frac{S^{2}}{b^{3} \\left(- \\frac{S^{2}}{b^{2}} + 1\\right)^{\\frac{3}{2}}}\\right) + \\sqrt{- \\frac{S^{2}}{b^{2}} + 1} - \\frac{1}{\\sqrt{- \\frac{S^{2}}{b^{2}} + 1}}}{D}$"
      ],
      "text/plain": [
       "(-S**2*(D + T)/(b**3*(-S**2/b**2 + 1)**(3/2)) + b*(S**2/(b**3*sqrt(-S**2/b**2 + 1)) + S**2/(b**3*(-S**2/b**2 + 1)**(3/2))) + sqrt(-S**2/b**2 + 1) - 1/sqrt(-S**2/b**2 + 1))/D"
      ]
     },
     "metadata": {},
     "output_type": "display_data"
    }
   ],
   "source": [
    "display(((diff(-1+1/D*(b*((1-S**2/b**2)**(1/2)-(1-S**2/b**2)**(-1/2))+(T+D)*(1-S**2/b**2)**(-1/2)),b))))"
   ]
  },
  {
   "cell_type": "code",
   "execution_count": 7,
   "id": "3cae26cd",
   "metadata": {},
   "outputs": [
    {
     "data": {
      "text/latex": [
       "$\\displaystyle \\frac{S^{2} \\left(- D - T + b\\right)}{D b \\sqrt{\\frac{- S^{2} + b^{2}}{b^{2}}} \\left(- S^{2} + b^{2}\\right)}$"
      ],
      "text/plain": [
       "S**2*(-D - T + b)/(D*b*sqrt((-S**2 + b**2)/b**2)*(-S**2 + b**2))"
      ]
     },
     "metadata": {},
     "output_type": "display_data"
    }
   ],
   "source": [
    "display(simplify(expand(diff(1/D*(b*((1-S**2/b**2)**(1/2)-(1-S**2/b**2)**(-1/2))+(T+D)*(1-S**2/b**2)**(-1/2)),b))))"
   ]
  },
  {
   "cell_type": "code",
   "execution_count": 26,
   "id": "c21d257a",
   "metadata": {},
   "outputs": [],
   "source": [
    "D=0.70088\n",
    "T=128.944\n",
    "S=129.347\n",
    "vx=0.99\n",
    "p=1\n",
    "rho=0.1"
   ]
  },
  {
   "cell_type": "code",
   "execution_count": 27,
   "id": "712aa2d2",
   "metadata": {},
   "outputs": [
    {
     "data": {
      "text/latex": [
       "$\\displaystyle -0.721650311950413 + 0.104128547652966 i$"
      ],
      "text/plain": [
       "-0.721650311950413 + 0.104128547652966*I"
      ]
     },
     "execution_count": 27,
     "metadata": {},
     "output_type": "execute_result"
    }
   ],
   "source": [
    "p - 2./3.*(1.-S*S/(T+D+p)**2)*(T + D + p - D*(1.-S*S/(T+D+p))**(1/2) - p*(1.-S*S/(T+D+p)**2))"
   ]
  },
  {
   "cell_type": "code",
   "execution_count": 28,
   "id": "64c08a3c",
   "metadata": {},
   "outputs": [
    {
     "data": {
      "text/latex": [
       "$\\displaystyle 0.346513420329397 - 0.000311014100580922 i$"
      ],
      "text/plain": [
       "0.346513420329397 - 0.000311014100580922*I"
      ]
     },
     "execution_count": 28,
     "metadata": {},
     "output_type": "execute_result"
    }
   ],
   "source": [
    "1.- 2./3.*S*S/(pow(T + D + p,3.))*(T + D + p - D*(1.-S*S/(T+D+p))**(-1/2))"
   ]
  },
  {
   "cell_type": "code",
   "execution_count": 29,
   "id": "14e71d07",
   "metadata": {},
   "outputs": [
    {
     "data": {
      "text/latex": [
       "$\\displaystyle 26.0$"
      ],
      "text/plain": [
       "26.0000000000000"
      ]
     },
     "execution_count": 29,
     "metadata": {},
     "output_type": "execute_result"
    }
   ],
   "source": [
    "1+5/2*(1/0.1)"
   ]
  },
  {
   "cell_type": "code",
   "execution_count": 31,
   "id": "d378e233",
   "metadata": {},
   "outputs": [
    {
     "data": {
      "text/latex": [
       "$\\displaystyle 130.652822144$"
      ],
      "text/plain": [
       "130.652822144000"
      ]
     },
     "execution_count": 31,
     "metadata": {},
     "output_type": "execute_result"
    }
   ],
   "source": [
    "0.1*26*7.0888**2"
   ]
  },
  {
   "cell_type": "code",
   "execution_count": 32,
   "id": "2f2a374d",
   "metadata": {},
   "outputs": [
    {
     "data": {
      "text/latex": [
       "$\\displaystyle 7.08881205008335$"
      ],
      "text/plain": [
       "7.08881205008335"
      ]
     },
     "execution_count": 32,
     "metadata": {},
     "output_type": "execute_result"
    }
   ],
   "source": [
    "(1-vx*vx)**(-1/2)"
   ]
  },
  {
   "cell_type": "code",
   "execution_count": null,
   "id": "4ff6d11c",
   "metadata": {},
   "outputs": [],
   "source": []
  }
 ],
 "metadata": {
  "kernelspec": {
   "display_name": "SageMath 9.5",
   "language": "sage",
   "name": "sagemath"
  },
  "language_info": {
   "codemirror_mode": {
    "name": "ipython",
    "version": 3
   },
   "file_extension": ".py",
   "mimetype": "text/x-python",
   "name": "python",
   "nbconvert_exporter": "python",
   "pygments_lexer": "ipython3",
   "version": "3.11.6"
  }
 },
 "nbformat": 4,
 "nbformat_minor": 5
}
